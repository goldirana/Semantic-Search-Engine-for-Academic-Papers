{
 "cells": [
  {
   "cell_type": "code",
   "execution_count": 1,
   "metadata": {},
   "outputs": [],
   "source": [
    "from src.constants import *\n",
    "import gdown\n",
    "import zipfile\n",
    "import os\n",
    "import shutil\n",
    "from src import logger\n",
    "from src.config.configuration import ConfigurationManager"
   ]
  },
  {
   "cell_type": "code",
   "execution_count": 2,
   "metadata": {},
   "outputs": [],
   "source": [
    "from src.constants import (CONFIG_FILE_PATH, PARAMS_FILE_PATH)\n",
    "from src import logger\n",
    "from src.utils.common import read_yaml\n",
    "from src.entity.config_entity import DataIngestionConfig\n",
    "\n",
    "\n",
    "class ConfigurationManager:\n",
    "    def __init__(self):\n",
    "        self.config = read_yaml(CONFIG_FILE_PATH)\n",
    "        self.params = read_yaml(PARAMS_FILE_PATH)\n",
    "         \n",
    "    def get_data_ingestion_config(self) -> DataIngestionConfig:\n",
    "        params = DataIngestionConfig(\n",
    "            google_drive_url=self.config.data.google_drive_url,\n",
    "            download_path=self.config.data.download_path,\n",
    "            extract_to=self.config.data.extract_to\n",
    "            )\n",
    "        return params \n",
    "    "
   ]
  },
  {
   "cell_type": "code",
   "execution_count": 3,
   "metadata": {},
   "outputs": [
    {
     "name": "stderr",
     "output_type": "stream",
     "text": [
      "2025-01-27 14:06:12,816 - root - INFO - Yaml read successfully from /Users/goldyrana/mess/deep_learning/projects/Semantic-Search-Engine-for-Academic-Papers/config/config.yaml\n"
     ]
    }
   ],
   "source": [
    "params = reaConfgiCfrom asdfasdfasdfasdfasdfasdfasdd_yaml(CONFIG_FILE_PATH)"
   ]
  },
  {
   "cell_type": "code",
   "execution_count": 7,
   "metadata": {},
   "outputs": [
    {
     "ename": "AttributeError",
     "evalue": "'dict' object has no attribute 'google_drive_url'",
     "output_type": "error",
     "traceback": [
      "\u001b[0;31m---------------------------------------------------------------------------\u001b[0m",
      "\u001b[0;31mAttributeError\u001b[0m                            Traceback (most recent call last)",
      "Cell \u001b[0;32mIn[7], line 1\u001b[0m\n\u001b[0;32m----> 1\u001b[0m \u001b[43mparams\u001b[49m\u001b[43m[\u001b[49m\u001b[38;5;124;43m\"\u001b[39;49m\u001b[38;5;124;43mdata\u001b[39;49m\u001b[38;5;124;43m\"\u001b[39;49m\u001b[43m]\u001b[49m\u001b[38;5;241;43m.\u001b[39;49m\u001b[43mgoogle_drive_url\u001b[49m\n",
      "\u001b[0;31mAttributeError\u001b[0m: 'dict' object has no attribute 'google_drive_url'"
     ]
    }
   ],
   "source": [
    "params[\"data\"].google_drive_url"
   ]
  },
  {
   "cell_type": "code",
   "execution_count": 4,
   "metadata": {},
   "outputs": [
    {
     "name": "stderr",
     "output_type": "stream",
     "text": [
      "2025-01-27 14:00:48,327 - root - INFO - Yaml read successfully from /Users/goldyrana/mess/deep_learning/projects/Semantic-Search-Engine-for-Academic-Papers/config/config.yaml\n",
      "2025-01-27 14:00:48,328 - root - ERROR - Exception occured while reading yaml file from                         location: /Users/goldyrana/mess/deep_learning/projects/Semantic-Search-Engine-for-Academic-Papers/config/config.yaml\n",
      " name 'ConfigBox' is not defined\n",
      "2025-01-27 14:00:48,330 - root - ERROR - FileNotFoundError: params.yaml\n"
     ]
    },
    {
     "ename": "AttributeError",
     "evalue": "'NoneType' object has no attribute 'data'",
     "output_type": "error",
     "traceback": [
      "\u001b[0;31m---------------------------------------------------------------------------\u001b[0m",
      "\u001b[0;31mAttributeError\u001b[0m                            Traceback (most recent call last)",
      "Cell \u001b[0;32mIn[4], line 48\u001b[0m\n\u001b[1;32m     46\u001b[0m \u001b[38;5;28;01mif\u001b[39;00m \u001b[38;5;18m__name__\u001b[39m \u001b[38;5;241m==\u001b[39m \u001b[38;5;124m\"\u001b[39m\u001b[38;5;124m__main__\u001b[39m\u001b[38;5;124m\"\u001b[39m:\n\u001b[1;32m     47\u001b[0m     config_manager \u001b[38;5;241m=\u001b[39m ConfigurationManager()\n\u001b[0;32m---> 48\u001b[0m     config_params \u001b[38;5;241m=\u001b[39m \u001b[43mconfig_manager\u001b[49m\u001b[38;5;241;43m.\u001b[39;49m\u001b[43mget_data_ingestion_config\u001b[49m\u001b[43m(\u001b[49m\u001b[43m)\u001b[49m\n\u001b[1;32m     49\u001b[0m     ob \u001b[38;5;241m=\u001b[39m DataIngestion(config_params)\n\u001b[1;32m     50\u001b[0m     ob\u001b[38;5;241m.\u001b[39mdownload_and_extract_zip()\n",
      "Cell \u001b[0;32mIn[2], line 14\u001b[0m, in \u001b[0;36mConfigurationManager.get_data_ingestion_config\u001b[0;34m(self)\u001b[0m\n\u001b[1;32m     12\u001b[0m \u001b[38;5;28;01mdef\u001b[39;00m\u001b[38;5;250m \u001b[39m\u001b[38;5;21mget_data_ingestion_config\u001b[39m(\u001b[38;5;28mself\u001b[39m) \u001b[38;5;241m-\u001b[39m\u001b[38;5;241m>\u001b[39m DataIngestionConfig:\n\u001b[1;32m     13\u001b[0m     params \u001b[38;5;241m=\u001b[39m DataIngestionConfig(\n\u001b[0;32m---> 14\u001b[0m         google_drive_url\u001b[38;5;241m=\u001b[39m\u001b[38;5;28;43mself\u001b[39;49m\u001b[38;5;241;43m.\u001b[39;49m\u001b[43mconfig\u001b[49m\u001b[38;5;241;43m.\u001b[39;49m\u001b[43mdata\u001b[49m\u001b[38;5;241m.\u001b[39mgoogle_drive_url,\n\u001b[1;32m     15\u001b[0m         download_path\u001b[38;5;241m=\u001b[39m\u001b[38;5;28mself\u001b[39m\u001b[38;5;241m.\u001b[39mconfig\u001b[38;5;241m.\u001b[39mdata\u001b[38;5;241m.\u001b[39mdownload_path,\n\u001b[1;32m     16\u001b[0m         extract_to\u001b[38;5;241m=\u001b[39m\u001b[38;5;28mself\u001b[39m\u001b[38;5;241m.\u001b[39mconfig\u001b[38;5;241m.\u001b[39mdata\u001b[38;5;241m.\u001b[39mextract_to\n\u001b[1;32m     17\u001b[0m         )\n\u001b[1;32m     18\u001b[0m     \u001b[38;5;28;01mreturn\u001b[39;00m params\n",
      "\u001b[0;31mAttributeError\u001b[0m: 'NoneType' object has no attribute 'data'"
     ]
    }
   ],
   "source": [
    "\n",
    "class DataIngestion:\n",
    "    def __init__(self, config):\n",
    "        self.config = config\n",
    "        print(self.config)\n",
    "\n",
    "    def download_and_extract_zip(self):\n",
    "        \"\"\"\n",
    "        Downloads a ZIP file from Google Drive, extracts it, and removes any extra folder.\n",
    "        \n",
    "        Args:\n",
    "            drive_url (str): Direct download link to the file on Google Drive.\n",
    "            output_path (str): Local path to save the downloaded ZIP file.\n",
    "            extract_to (str): Directory to extract the contents.\n",
    "        \"\"\"\n",
    "        try:\n",
    "            # Step 1: Download the ZIP file\n",
    "            gdown.download(self.config.google_drive_url, \n",
    "                           self.config.download_path, quiet=False, fuzzy=True)\n",
    "            print(f\"Downloaded file saved to: {self.config.download_path}\")\n",
    "            \n",
    "            # Step 2: Check if the file is a ZIP file\n",
    "            if not zipfile.is_zipfile(self.config.download_path):\n",
    "                raise zipfile.BadZipFile(\"Downloaded file is not a valid ZIP file.\")\n",
    "            \n",
    "            # Step 3: Extract the ZIP file\n",
    "            with zipfile.ZipFile(self.config.download_path, 'r') as zip_ref:\n",
    "                zip_ref.extractall(self.config.extract_to)\n",
    "            print(f\"Extracted contents to: {self.config.extract_to}\")\n",
    "            \n",
    "            # Step 4: Move files if an extra folder is created\n",
    "            for root, dirs, files in os.walk(self.config.extract_to):\n",
    "                # If there's an extra folder, move its contents up and remove the folder\n",
    "                for folder in dirs:\n",
    "                    folder_path = os.path.join(root, folder)\n",
    "                    for file in os.listdir(folder_path):\n",
    "                        shutil.move(os.path.join(folder_path, file), self.config.extract_to)\n",
    "                    os.rmdir(folder_path)  # Remove the now-empty folder\n",
    "                break  # Only process the top-level directory\n",
    "\n",
    "        except zipfile.BadZipFile as e:\n",
    "            print(e)\n",
    "        except Exception as e:\n",
    "            print(f\"An error occurred: {e}\")\n",
    "\n",
    "\n",
    "if __name__ == \"__main__\":\n",
    "    config_manager = ConfigurationManager()\n",
    "    config_params = config_manager.get_data_ingestion_config()\n",
    "    ob = DataIngestion(config_params)\n",
    "    ob.download_and_extract_zip()"
   ]
  },
  {
   "cell_type": "code",
   "execution_count": 5,
   "metadata": {},
   "outputs": [
    {
     "data": {
      "text/plain": [
       "'/Users/goldyrana/mess/deep_learning/projects/Semantic-Search-Engine-for-Academic-Papers/config/config.yaml'"
      ]
     },
     "execution_count": 5,
     "metadata": {},
     "output_type": "execute_result"
    }
   ],
   "source": [
    "CONFIG_FILE_PATH"
   ]
  },
  {
   "cell_type": "code",
   "execution_count": 6,
   "metadata": {},
   "outputs": [
    {
     "name": "stderr",
     "output_type": "stream",
     "text": [
      "2025-01-27 14:04:40,982 - root - INFO - Yaml read successfully from /Users/goldyrana/mess/deep_learning/projects/Semantic-Search-Engine-for-Academic-Papers/config/config.yaml\n",
      "2025-01-27 14:04:40,984 - root - ERROR - Exception occured while reading yaml file from                         location: /Users/goldyrana/mess/deep_learning/projects/Semantic-Search-Engine-for-Academic-Papers/config/config.yaml\n",
      " name 'ConfigBox' is not defined\n"
     ]
    }
   ],
   "source": [
    "read_yaml(CONFIG_FILE_PATH)"
   ]
  },
  {
   "cell_type": "code",
   "execution_count": null,
   "metadata": {},
   "outputs": [],
   "source": []
  }
 ],
 "metadata": {
  "kernelspec": {
   "display_name": "semantic_search",
   "language": "python",
   "name": "python3"
  },
  "language_info": {
   "codemirror_mode": {
    "name": "ipython",
    "version": 3
   },
   "file_extension": ".py",
   "mimetype": "text/x-python",
   "name": "python",
   "nbconvert_exporter": "python",
   "pygments_lexer": "ipython3",
   "version": "3.10.16"
  }
 },
 "nbformat": 4,
 "nbformat_minor": 2
}
