{
 "cells": [
  {
   "cell_type": "code",
   "execution_count": 6,
   "metadata": {},
   "outputs": [],
   "source": [
    "from langchain_community.document_loaders import DirectoryLoader, TextLoader, PyPDFDirectoryLoader, PyPDFLoader\n",
    "from langchain_community.document_loaders import json_loader\n",
    "from dataclasses import dataclass\n",
    "from src.utils.common import *\n",
    "from src.constants import *\n",
    "import os"
   ]
  },
  {
   "cell_type": "code",
   "execution_count": 2,
   "metadata": {},
   "outputs": [],
   "source": [
    "os.chdir(\"../\")"
   ]
  },
  {
   "cell_type": "code",
   "execution_count": 3,
   "metadata": {},
   "outputs": [],
   "source": [
    "file_path = \"/Users/goldyrana/mess/deep_learning/projects/Semantic-Search-Engine-for-Academic-Papers/data/raw/arxiv-metadata-oai-snapshot.json\"\n",
    "loader = json_loader.JSONLoader(\n",
    "    file_path=file_path,\n",
    "    jq_schema=\".quiz\")"
   ]
  },
  {
   "cell_type": "code",
   "execution_count": null,
   "metadata": {},
   "outputs": [],
   "source": [
    "import json\n",
    "\n",
    "file_path = \"/Users/goldyrana/mess/deep_learning/projects/Semantic-Search-Engine-for-Academic-Papers/data/raw/arxiv-metadata-oai-snapshot.json\"\n",
    "\n",
    "# Function to load JSON objects from file containing multiple JSON entries\n",
    "def load_jsonl(input_path):\n",
    "    with open(input_path, 'r', encoding='utf-8') as file:\n",
    "        for line in file:\n",
    "            yield json.loads(line)\n",
    "\n",
    "docs = []\n",
    "i = 0\n",
    "# Use the new function to read JSON objects\n",
    "for doc in load_jsonl(file_path):\n",
    "    docs.append(doc)\n",
    "    i += 1\n",
    "    if i == 10:  # Limit to 10 documents for initial inspection\n",
    "        break\n",
    "\n",
    "# Now you can print or inspect the first few documents\n",
    "for doc in docs:\n",
    "    print(doc)\n"
   ]
  },
  {
   "cell_type": "code",
   "execution_count": 11,
   "metadata": {},
   "outputs": [
    {
     "name": "stderr",
     "output_type": "stream",
     "text": [
      "2025-01-27 16:03:17,815 - root - INFO - Yaml read successfully from /Users/goldyrana/mess/deep_learning/projects/Semantic-Search-Engine-for-Academic-Papers/config/config.yaml\n"
     ]
    },
    {
     "data": {
      "text/plain": [
       "ConfigBox({'data': {'google_drive_url': 'https://drive.google.com/file/d/1-78n_dwA-irYcCUT6qSskkBO_UEJcngB/view?usp=sharing', 'download_path': 'data/external/data.zip', 'extract_to': 'data/raw', 'interim_path': 'data/interim', 'processed_path': 'data/processed', 'train_path': 'data/processed/train', 'train_size': 0.7, 'test_size': 0.2, 'val_size': 0.1}})"
      ]
     },
     "execution_count": 11,
     "metadata": {},
     "output_type": "execute_result"
    }
   ],
   "source": [
    "read_yaml(CONFIG_FILE_PATH)"
   ]
  },
  {
   "cell_type": "code",
   "execution_count": 19,
   "metadata": {},
   "outputs": [],
   "source": [
    "@dataclass\n",
    "class DataPreprocessingConfig:\n",
    "    raw_path: str\n",
    "    interim_path: str\n",
    "    \n",
    "class ConfigurationManager:\n",
    "    def __init__(self):\n",
    "        self.config = read_yaml(CONFIG_FILE_PATH)\n",
    "        self.params = read_yaml(PARAMS_FILE_PATH)\n",
    "         \n",
    "    \n",
    "    def get_data_preprocessing_config(self) -> DataPreprocessingConfig:\n",
    "        params = DataPreprocessingConfig(\n",
    "            raw_path = self.config.data.raw_file_path,\n",
    "            interim_path=self.config.data.interim_path\n",
    "        )\n",
    "        return params\n",
    "    \n",
    "    \n",
    "class DataPreprocessing:\n",
    "    def __init__(self, config):\n",
    "        self.config = config\n",
    "        \n",
    "    def load_jsonl(self):\n",
    "        with open(self.config.raw_path, 'r', encoding=\"utf-8\") as file:\n",
    "            for line in file:\n",
    "                yield json.loads(line)\n",
    "                \n",
    "    def save_json(self, data, save_path):\n",
    "        with open(save_path, \"w\") as file:\n",
    "            json.dump(data, file)\n",
    "    \n",
    "    \n",
    "def main():\n",
    "    pass\n",
    "        "
   ]
  },
  {
   "cell_type": "code",
   "execution_count": 20,
   "metadata": {},
   "outputs": [
    {
     "name": "stderr",
     "output_type": "stream",
     "text": [
      "2025-01-27 16:07:58,681 - root - INFO - Yaml read successfully from /Users/goldyrana/mess/deep_learning/projects/Semantic-Search-Engine-for-Academic-Papers/config/config.yaml\n",
      "2025-01-27 16:07:58,682 - root - ERROR - FileNotFoundError: params.yaml\n"
     ]
    },
    {
     "name": "stdout",
     "output_type": "stream",
     "text": [
      "DataPreprocessingConfig(raw_path='data/raw/arxiv-metadata-oai-snapshot.json', interim_path='data/interim')\n"
     ]
    }
   ],
   "source": [
    "if __name__ == \"__main__\":\n",
    "    config_manager = ConfigurationManager()\n",
    "    params = config_manager.get_data_preprocessing_config()\n",
    "    print(params)\n",
    "    data_preprocessor = DataPreprocessing(params)\n",
    "    docs = []\n",
    "    i  = 0 \n",
    "    for doc in data_preprocessor.load_jsonl():\n",
    "        docs.append(doc)\n",
    "        i += 1\n",
    "        if i == 100:\n",
    "            break\n",
    "    \n",
    "    data_preprocessor.save_json(docs, \"data/interim/test.json\")"
   ]
  },
  {
   "cell_type": "code",
   "execution_count": 22,
   "metadata": {},
   "outputs": [
    {
     "data": {
      "text/plain": [
       "100"
      ]
     },
     "execution_count": 22,
     "metadata": {},
     "output_type": "execute_result"
    }
   ],
   "source": [
    "len(docs)"
   ]
  },
  {
   "cell_type": "code",
   "execution_count": null,
   "metadata": {},
   "outputs": [],
   "source": []
  }
 ],
 "metadata": {
  "kernelspec": {
   "display_name": "semantic_search",
   "language": "python",
   "name": "python3"
  },
  "language_info": {
   "codemirror_mode": {
    "name": "ipython",
    "version": 3
   },
   "file_extension": ".py",
   "mimetype": "text/x-python",
   "name": "python",
   "nbconvert_exporter": "python",
   "pygments_lexer": "ipython3",
   "version": "3.10.16"
  }
 },
 "nbformat": 4,
 "nbformat_minor": 2
}
